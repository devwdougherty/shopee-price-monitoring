{
 "cells": [
  {
   "cell_type": "code",
   "execution_count": 1,
   "id": "97f2c379",
   "metadata": {},
   "outputs": [
    {
     "name": "stdout",
     "output_type": "stream",
     "text": [
      "Requirement already satisfied: requests in c:\\python39\\lib\\site-packages (2.28.1)\n",
      "Requirement already satisfied: bs4 in c:\\python39\\lib\\site-packages (0.0.1)\n",
      "Requirement already satisfied: charset-normalizer<3,>=2 in c:\\python39\\lib\\site-packages (from requests) (2.1.0)\n",
      "Requirement already satisfied: urllib3<1.27,>=1.21.1 in c:\\python39\\lib\\site-packages (from requests) (1.26.10)\n",
      "Requirement already satisfied: idna<4,>=2.5 in c:\\python39\\lib\\site-packages (from requests) (3.3)\n",
      "Requirement already satisfied: certifi>=2017.4.17 in c:\\python39\\lib\\site-packages (from requests) (2022.6.15)\n",
      "Requirement already satisfied: beautifulsoup4 in c:\\python39\\lib\\site-packages (from bs4) (4.11.1)\n",
      "Requirement already satisfied: soupsieve>1.2 in c:\\python39\\lib\\site-packages (from beautifulsoup4->bs4) (2.3.2.post1)\n",
      "Note: you may need to restart the kernel to use updated packages.\n"
     ]
    }
   ],
   "source": [
    "pip install requests bs4"
   ]
  },
  {
   "cell_type": "code",
   "execution_count": 2,
   "id": "0134a940",
   "metadata": {},
   "outputs": [],
   "source": [
    "import requests\n",
    "from bs4 import BeautifulSoup as bs\n",
    "import time"
   ]
  },
  {
   "cell_type": "code",
   "execution_count": 3,
   "id": "9598970e",
   "metadata": {},
   "outputs": [],
   "source": [
    "url = 'https://www.iceloshop.com.br/macbook-pro-m1-pro-14-2-16gb-512ssd'\n",
    "ret = requests.get(url)\n",
    "soup = bs(ret.text)"
   ]
  },
  {
   "cell_type": "code",
   "execution_count": 4,
   "id": "ae9c6cd4",
   "metadata": {},
   "outputs": [],
   "source": [
    "product_name = soup.find('h1', {'class': 'product-name'}).text"
   ]
  },
  {
   "cell_type": "code",
   "execution_count": 5,
   "id": "c8b857e1",
   "metadata": {},
   "outputs": [
    {
     "name": "stdout",
     "output_type": "stream",
     "text": [
      "Seu produto: MacBook Pro  M1-Pro 14.2\" 16GB 512GB SSD está com o preço R$11.899,00\n",
      "Seu produto: MacBook Pro  M1-Pro 14.2\" 16GB 512GB SSD está com o preço R$11.899,00\n",
      "Seu produto: MacBook Pro  M1-Pro 14.2\" 16GB 512GB SSD está com o preço R$11.899,00\n",
      "Seu produto: MacBook Pro  M1-Pro 14.2\" 16GB 512GB SSD está com o preço R$11.899,00\n",
      "Seu produto: MacBook Pro  M1-Pro 14.2\" 16GB 512GB SSD está com o preço R$11.899,00\n",
      "Seu produto: MacBook Pro  M1-Pro 14.2\" 16GB 512GB SSD está com o preço R$11.899,00\n",
      "Seu produto: MacBook Pro  M1-Pro 14.2\" 16GB 512GB SSD está com o preço R$11.899,00\n",
      "Seu produto: MacBook Pro  M1-Pro 14.2\" 16GB 512GB SSD está com o preço R$11.899,00\n",
      "Seu produto: MacBook Pro  M1-Pro 14.2\" 16GB 512GB SSD está com o preço R$11.899,00\n",
      "Seu produto: MacBook Pro  M1-Pro 14.2\" 16GB 512GB SSD está com o preço R$11.899,00\n"
     ]
    },
    {
     "ename": "KeyboardInterrupt",
     "evalue": "",
     "output_type": "error",
     "traceback": [
      "\u001b[1;31m---------------------------------------------------------------------------\u001b[0m",
      "\u001b[1;31mKeyboardInterrupt\u001b[0m                         Traceback (most recent call last)",
      "Cell \u001b[1;32mIn [5], line 5\u001b[0m\n\u001b[0;32m      3\u001b[0m product_price \u001b[38;5;241m=\u001b[39m soup\u001b[38;5;241m.\u001b[39mfind(\u001b[38;5;124m'\u001b[39m\u001b[38;5;124mh3\u001b[39m\u001b[38;5;124m'\u001b[39m, {\u001b[38;5;124m'\u001b[39m\u001b[38;5;124mclass\u001b[39m\u001b[38;5;124m'\u001b[39m: \u001b[38;5;124m'\u001b[39m\u001b[38;5;124mmb-0\u001b[39m\u001b[38;5;124m'\u001b[39m})\u001b[38;5;241m.\u001b[39mtext\n\u001b[0;32m      4\u001b[0m \u001b[38;5;28mprint\u001b[39m(\u001b[38;5;124mf\u001b[39m\u001b[38;5;124m'\u001b[39m\u001b[38;5;124mSeu produto: \u001b[39m\u001b[38;5;132;01m{\u001b[39;00mproduct_name\u001b[38;5;132;01m}\u001b[39;00m\u001b[38;5;124m está com o preço \u001b[39m\u001b[38;5;132;01m{\u001b[39;00mproduct_price\u001b[38;5;132;01m}\u001b[39;00m\u001b[38;5;124m'\u001b[39m);\n\u001b[1;32m----> 5\u001b[0m \u001b[43mtime\u001b[49m\u001b[38;5;241;43m.\u001b[39;49m\u001b[43msleep\u001b[49m\u001b[43m(\u001b[49m\u001b[38;5;241;43m5\u001b[39;49m\u001b[43m)\u001b[49m\n",
      "\u001b[1;31mKeyboardInterrupt\u001b[0m: "
     ]
    }
   ],
   "source": [
    "while True:\n",
    "    \n",
    "    product_price = soup.find('h3', {'class': 'mb-0'}).text\n",
    "    print(f'Seu produto: {product_name} está com o preço {product_price}');\n",
    "    time.sleep(5)"
   ]
  },
  {
   "cell_type": "code",
   "execution_count": null,
   "id": "29e6d497",
   "metadata": {},
   "outputs": [],
   "source": []
  }
 ],
 "metadata": {
  "kernelspec": {
   "display_name": "Python 3 (ipykernel)",
   "language": "python",
   "name": "python3"
  },
  "language_info": {
   "codemirror_mode": {
    "name": "ipython",
    "version": 3
   },
   "file_extension": ".py",
   "mimetype": "text/x-python",
   "name": "python",
   "nbconvert_exporter": "python",
   "pygments_lexer": "ipython3",
   "version": "3.9.2"
  }
 },
 "nbformat": 4,
 "nbformat_minor": 5
}
